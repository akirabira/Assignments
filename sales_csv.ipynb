{
  "nbformat": 4,
  "nbformat_minor": 0,
  "metadata": {
    "colab": {
      "name": "sales_csv.ipynb",
      "provenance": [],
      "authorship_tag": "ABX9TyPeW1lQAVvqA4vEZ0fQe5Y3",
      "include_colab_link": true
    },
    "kernelspec": {
      "name": "python3",
      "display_name": "Python 3"
    },
    "language_info": {
      "name": "python"
    }
  },
  "cells": [
    {
      "cell_type": "markdown",
      "metadata": {
        "id": "view-in-github",
        "colab_type": "text"
      },
      "source": [
        "<a href=\"https://colab.research.google.com/github/akirabira/Assignments/blob/main/sales_csv.ipynb\" target=\"_parent\"><img src=\"https://colab.research.google.com/assets/colab-badge.svg\" alt=\"Open In Colab\"/></a>"
      ]
    },
    {
      "cell_type": "code",
      "execution_count": 1,
      "metadata": {
        "colab": {
          "base_uri": "https://localhost:8080/"
        },
        "id": "HaIEGtxgRth9",
        "outputId": "ca53a13f-4c0b-4f99-eec8-1d26a46aa1d5"
      },
      "outputs": [
        {
          "output_type": "stream",
          "name": "stdout",
          "text": [
            "Requirement already satisfied: pandas in /usr/local/lib/python3.7/dist-packages (1.1.5)\n",
            "Requirement already satisfied: numpy>=1.15.4 in /usr/local/lib/python3.7/dist-packages (from pandas) (1.19.5)\n",
            "Requirement already satisfied: pytz>=2017.2 in /usr/local/lib/python3.7/dist-packages (from pandas) (2018.9)\n",
            "Requirement already satisfied: python-dateutil>=2.7.3 in /usr/local/lib/python3.7/dist-packages (from pandas) (2.8.2)\n",
            "Requirement already satisfied: six>=1.5 in /usr/local/lib/python3.7/dist-packages (from python-dateutil>=2.7.3->pandas) (1.15.0)\n"
          ]
        }
      ],
      "source": [
        "!pip install pandas"
      ]
    },
    {
      "cell_type": "code",
      "source": [
        "import pandas as pd"
      ],
      "metadata": {
        "id": "tU1kNlzqVnhz"
      },
      "execution_count": 2,
      "outputs": []
    },
    {
      "cell_type": "code",
      "source": [
        "df = pd.read_csv('sales.csv')\n",
        "df"
      ],
      "metadata": {
        "colab": {
          "base_uri": "https://localhost:8080/",
          "height": 641
        },
        "id": "EkHhozTzV0nC",
        "outputId": "c67fe41f-1dd2-4748-e4db-9252930e8a74"
      },
      "execution_count": 3,
      "outputs": [
        {
          "output_type": "execute_result",
          "data": {
            "text/html": [
              "\n",
              "  <div id=\"df-2eab0df4-178c-4deb-8eb0-fd6fbc50dd17\">\n",
              "    <div class=\"colab-df-container\">\n",
              "      <div>\n",
              "<style scoped>\n",
              "    .dataframe tbody tr th:only-of-type {\n",
              "        vertical-align: middle;\n",
              "    }\n",
              "\n",
              "    .dataframe tbody tr th {\n",
              "        vertical-align: top;\n",
              "    }\n",
              "\n",
              "    .dataframe thead th {\n",
              "        text-align: right;\n",
              "    }\n",
              "</style>\n",
              "<table border=\"1\" class=\"dataframe\">\n",
              "  <thead>\n",
              "    <tr style=\"text-align: right;\">\n",
              "      <th></th>\n",
              "      <th>Date</th>\n",
              "      <th>Time</th>\n",
              "      <th>Trade Name</th>\n",
              "      <th>Generic Name</th>\n",
              "      <th>Quantity</th>\n",
              "      <th>Amount</th>\n",
              "      <th>Profit</th>\n",
              "      <th>Dispenser</th>\n",
              "    </tr>\n",
              "  </thead>\n",
              "  <tbody>\n",
              "    <tr>\n",
              "      <th>0</th>\n",
              "      <td>31/12/2021</td>\n",
              "      <td>2:21 PM</td>\n",
              "      <td>Azithro 250mg (Swazi)</td>\n",
              "      <td>Azithro 250mg (Swazi)</td>\n",
              "      <td>40</td>\n",
              "      <td>91920.0</td>\n",
              "      <td>17920.0</td>\n",
              "      <td>pharouk kaks</td>\n",
              "    </tr>\n",
              "    <tr>\n",
              "      <th>1</th>\n",
              "      <td>31/12/2021</td>\n",
              "      <td>2:21 PM</td>\n",
              "      <td>Azithro 500mg (Turkey)</td>\n",
              "      <td>Azithro 500mg</td>\n",
              "      <td>10</td>\n",
              "      <td>70500.0</td>\n",
              "      <td>5500.0</td>\n",
              "      <td>pharouk kaks</td>\n",
              "    </tr>\n",
              "    <tr>\n",
              "      <th>2</th>\n",
              "      <td>31/12/2021</td>\n",
              "      <td>2:21 PM</td>\n",
              "      <td>Mediven S Ointment</td>\n",
              "      <td>Mediven S Ointment</td>\n",
              "      <td>5</td>\n",
              "      <td>31500.0</td>\n",
              "      <td>1500.0</td>\n",
              "      <td>pharouk kaks</td>\n",
              "    </tr>\n",
              "    <tr>\n",
              "      <th>3</th>\n",
              "      <td>31/12/2021</td>\n",
              "      <td>2:21 PM</td>\n",
              "      <td>Clindamycin caps 150mg UK</td>\n",
              "      <td>Clindamycin caps 150mg UK</td>\n",
              "      <td>3</td>\n",
              "      <td>72000.0</td>\n",
              "      <td>15000.0</td>\n",
              "      <td>pharouk kaks</td>\n",
              "    </tr>\n",
              "    <tr>\n",
              "      <th>4</th>\n",
              "      <td>31/12/2021</td>\n",
              "      <td>2:21 PM</td>\n",
              "      <td>Dicloday Gel 30mg</td>\n",
              "      <td>Dicloday Gel 30mg</td>\n",
              "      <td>12</td>\n",
              "      <td>25200.0</td>\n",
              "      <td>2400.0</td>\n",
              "      <td>pharouk kaks</td>\n",
              "    </tr>\n",
              "    <tr>\n",
              "      <th>...</th>\n",
              "      <td>...</td>\n",
              "      <td>...</td>\n",
              "      <td>...</td>\n",
              "      <td>...</td>\n",
              "      <td>...</td>\n",
              "      <td>...</td>\n",
              "      <td>...</td>\n",
              "      <td>...</td>\n",
              "    </tr>\n",
              "    <tr>\n",
              "      <th>47234</th>\n",
              "      <td>01/12/2021</td>\n",
              "      <td>7:16 AM</td>\n",
              "      <td>Flufed Tabs 10x10</td>\n",
              "      <td>Flufed Tabs 10x10</td>\n",
              "      <td>0.7</td>\n",
              "      <td>7000.0</td>\n",
              "      <td>700.0</td>\n",
              "      <td>CRISTOPHER</td>\n",
              "    </tr>\n",
              "    <tr>\n",
              "      <th>47235</th>\n",
              "      <td>01/12/2021</td>\n",
              "      <td>7:16 AM</td>\n",
              "      <td>Lonart Tab 24s</td>\n",
              "      <td>Lonart Tab 24's</td>\n",
              "      <td>3</td>\n",
              "      <td>7200.0</td>\n",
              "      <td>1275.0</td>\n",
              "      <td>CRISTOPHER</td>\n",
              "    </tr>\n",
              "    <tr>\n",
              "      <th>47236</th>\n",
              "      <td>01/12/2021</td>\n",
              "      <td>7:16 AM</td>\n",
              "      <td>Cofta Tabs 100s</td>\n",
              "      <td>Cofta Tabs 100's</td>\n",
              "      <td>1</td>\n",
              "      <td>10500.0</td>\n",
              "      <td>1300.0</td>\n",
              "      <td>CRISTOPHER</td>\n",
              "    </tr>\n",
              "    <tr>\n",
              "      <th>47237</th>\n",
              "      <td>01/12/2021</td>\n",
              "      <td>7:16 AM</td>\n",
              "      <td>Actinac Plus 20s</td>\n",
              "      <td>Actinac Plus 20's</td>\n",
              "      <td>1</td>\n",
              "      <td>4000.0</td>\n",
              "      <td>300.0</td>\n",
              "      <td>CRISTOPHER</td>\n",
              "    </tr>\n",
              "    <tr>\n",
              "      <th>47238</th>\n",
              "      <td>01/12/2021</td>\n",
              "      <td>7:16 AM</td>\n",
              "      <td>Ampiclox Caps (India) 10x10</td>\n",
              "      <td>Ampiclox Caps (India) 10x10</td>\n",
              "      <td>1</td>\n",
              "      <td>11500.0</td>\n",
              "      <td>1500.0</td>\n",
              "      <td>CRISTOPHER</td>\n",
              "    </tr>\n",
              "  </tbody>\n",
              "</table>\n",
              "<p>47239 rows × 8 columns</p>\n",
              "</div>\n",
              "      <button class=\"colab-df-convert\" onclick=\"convertToInteractive('df-2eab0df4-178c-4deb-8eb0-fd6fbc50dd17')\"\n",
              "              title=\"Convert this dataframe to an interactive table.\"\n",
              "              style=\"display:none;\">\n",
              "        \n",
              "  <svg xmlns=\"http://www.w3.org/2000/svg\" height=\"24px\"viewBox=\"0 0 24 24\"\n",
              "       width=\"24px\">\n",
              "    <path d=\"M0 0h24v24H0V0z\" fill=\"none\"/>\n",
              "    <path d=\"M18.56 5.44l.94 2.06.94-2.06 2.06-.94-2.06-.94-.94-2.06-.94 2.06-2.06.94zm-11 1L8.5 8.5l.94-2.06 2.06-.94-2.06-.94L8.5 2.5l-.94 2.06-2.06.94zm10 10l.94 2.06.94-2.06 2.06-.94-2.06-.94-.94-2.06-.94 2.06-2.06.94z\"/><path d=\"M17.41 7.96l-1.37-1.37c-.4-.4-.92-.59-1.43-.59-.52 0-1.04.2-1.43.59L10.3 9.45l-7.72 7.72c-.78.78-.78 2.05 0 2.83L4 21.41c.39.39.9.59 1.41.59.51 0 1.02-.2 1.41-.59l7.78-7.78 2.81-2.81c.8-.78.8-2.07 0-2.86zM5.41 20L4 18.59l7.72-7.72 1.47 1.35L5.41 20z\"/>\n",
              "  </svg>\n",
              "      </button>\n",
              "      \n",
              "  <style>\n",
              "    .colab-df-container {\n",
              "      display:flex;\n",
              "      flex-wrap:wrap;\n",
              "      gap: 12px;\n",
              "    }\n",
              "\n",
              "    .colab-df-convert {\n",
              "      background-color: #E8F0FE;\n",
              "      border: none;\n",
              "      border-radius: 50%;\n",
              "      cursor: pointer;\n",
              "      display: none;\n",
              "      fill: #1967D2;\n",
              "      height: 32px;\n",
              "      padding: 0 0 0 0;\n",
              "      width: 32px;\n",
              "    }\n",
              "\n",
              "    .colab-df-convert:hover {\n",
              "      background-color: #E2EBFA;\n",
              "      box-shadow: 0px 1px 2px rgba(60, 64, 67, 0.3), 0px 1px 3px 1px rgba(60, 64, 67, 0.15);\n",
              "      fill: #174EA6;\n",
              "    }\n",
              "\n",
              "    [theme=dark] .colab-df-convert {\n",
              "      background-color: #3B4455;\n",
              "      fill: #D2E3FC;\n",
              "    }\n",
              "\n",
              "    [theme=dark] .colab-df-convert:hover {\n",
              "      background-color: #434B5C;\n",
              "      box-shadow: 0px 1px 3px 1px rgba(0, 0, 0, 0.15);\n",
              "      filter: drop-shadow(0px 1px 2px rgba(0, 0, 0, 0.3));\n",
              "      fill: #FFFFFF;\n",
              "    }\n",
              "  </style>\n",
              "\n",
              "      <script>\n",
              "        const buttonEl =\n",
              "          document.querySelector('#df-2eab0df4-178c-4deb-8eb0-fd6fbc50dd17 button.colab-df-convert');\n",
              "        buttonEl.style.display =\n",
              "          google.colab.kernel.accessAllowed ? 'block' : 'none';\n",
              "\n",
              "        async function convertToInteractive(key) {\n",
              "          const element = document.querySelector('#df-2eab0df4-178c-4deb-8eb0-fd6fbc50dd17');\n",
              "          const dataTable =\n",
              "            await google.colab.kernel.invokeFunction('convertToInteractive',\n",
              "                                                     [key], {});\n",
              "          if (!dataTable) return;\n",
              "\n",
              "          const docLinkHtml = 'Like what you see? Visit the ' +\n",
              "            '<a target=\"_blank\" href=https://colab.research.google.com/notebooks/data_table.ipynb>data table notebook</a>'\n",
              "            + ' to learn more about interactive tables.';\n",
              "          element.innerHTML = '';\n",
              "          dataTable['output_type'] = 'display_data';\n",
              "          await google.colab.output.renderOutput(dataTable, element);\n",
              "          const docLink = document.createElement('div');\n",
              "          docLink.innerHTML = docLinkHtml;\n",
              "          element.appendChild(docLink);\n",
              "        }\n",
              "      </script>\n",
              "    </div>\n",
              "  </div>\n",
              "  "
            ],
            "text/plain": [
              "             Date     Time  ...   Profit     Dispenser\n",
              "0      31/12/2021  2:21 PM  ...  17920.0  pharouk kaks\n",
              "1      31/12/2021  2:21 PM  ...   5500.0  pharouk kaks\n",
              "2      31/12/2021  2:21 PM  ...   1500.0  pharouk kaks\n",
              "3      31/12/2021  2:21 PM  ...  15000.0  pharouk kaks\n",
              "4      31/12/2021  2:21 PM  ...   2400.0  pharouk kaks\n",
              "...           ...      ...  ...      ...           ...\n",
              "47234  01/12/2021  7:16 AM  ...    700.0    CRISTOPHER\n",
              "47235  01/12/2021  7:16 AM  ...   1275.0    CRISTOPHER\n",
              "47236  01/12/2021  7:16 AM  ...   1300.0    CRISTOPHER\n",
              "47237  01/12/2021  7:16 AM  ...    300.0    CRISTOPHER\n",
              "47238  01/12/2021  7:16 AM  ...   1500.0    CRISTOPHER\n",
              "\n",
              "[47239 rows x 8 columns]"
            ]
          },
          "metadata": {},
          "execution_count": 3
        }
      ]
    },
    {
      "cell_type": "code",
      "source": [
        "#total sales made in December\n",
        "round(df[\"Amount\"].sum())\n",
        "\"{:,}\".format(round(df[\"Amount\"].sum()))"
      ],
      "metadata": {
        "colab": {
          "base_uri": "https://localhost:8080/",
          "height": 35
        },
        "id": "vf7mTwXFZgz-",
        "outputId": "59968f82-d0b6-4a8c-e740-0fb6de3752b1"
      },
      "execution_count": 4,
      "outputs": [
        {
          "output_type": "execute_result",
          "data": {
            "application/vnd.google.colaboratory.intrinsic+json": {
              "type": "string"
            },
            "text/plain": [
              "'998,657,002'"
            ]
          },
          "metadata": {},
          "execution_count": 4
        }
      ]
    },
    {
      "cell_type": "code",
      "source": [
        "#total profit made in December\n",
        "round(df[\"Profit\"].sum())\n",
        "\"{:,}\".format(round(df[\"Profit\"].sum()))"
      ],
      "metadata": {
        "colab": {
          "base_uri": "https://localhost:8080/",
          "height": 35
        },
        "id": "vbUqZwacdNME",
        "outputId": "218121f0-56cb-44e0-ada0-40f8c20fb7ec"
      },
      "execution_count": 5,
      "outputs": [
        {
          "output_type": "execute_result",
          "data": {
            "application/vnd.google.colaboratory.intrinsic+json": {
              "type": "string"
            },
            "text/plain": [
              "'73,237,752'"
            ]
          },
          "metadata": {},
          "execution_count": 5
        }
      ]
    },
    {
      "cell_type": "code",
      "source": [
        "#most profitable item\n",
        "df[[\"Profit\", \"Trade Name\"]].max()"
      ],
      "metadata": {
        "colab": {
          "base_uri": "https://localhost:8080/"
        },
        "id": "YeFS89azaDWK",
        "outputId": "0150e178-91a7-4519-9013-7e901830d310"
      },
      "execution_count": 6,
      "outputs": [
        {
          "output_type": "execute_result",
          "data": {
            "text/plain": [
              "Profit                526364\n",
              "Trade Name    zecuf tabs 20s\n",
              "dtype: object"
            ]
          },
          "metadata": {},
          "execution_count": 6
        }
      ]
    },
    {
      "cell_type": "code",
      "source": [
        "#least profitable item\n",
        "df[[\"Profit\", \"Trade Name\"]].min()"
      ],
      "metadata": {
        "colab": {
          "base_uri": "https://localhost:8080/"
        },
        "id": "G8x14aV0cheX",
        "outputId": "469db3cb-02ad-40c2-80fc-5b79303f242d"
      },
      "execution_count": 7,
      "outputs": [
        {
          "output_type": "execute_result",
          "data": {
            "text/plain": [
              "Profit       -2.5833e+06\n",
              "Trade Name    ALARID E/D\n",
              "dtype: object"
            ]
          },
          "metadata": {},
          "execution_count": 7
        }
      ]
    },
    {
      "cell_type": "code",
      "source": [
        "#dispenser with most sales\n",
        "sales_per_dispenser = df.groupby(\"Dispenser\").sum()\n",
        "sort = sales_per_dispenser.sort_values(['Amount'], ascending=[False])\n",
        "dispenser =sort.iloc[0]\n",
        "print(round(dispenser))\n"
      ],
      "metadata": {
        "colab": {
          "base_uri": "https://localhost:8080/"
        },
        "id": "63bktDXNh-KM",
        "outputId": "ec58d3b5-1396-46c0-e42a-f522f2d6b60e"
      },
      "execution_count": 8,
      "outputs": [
        {
          "output_type": "stream",
          "name": "stdout",
          "text": [
            "Amount    351389036.0\n",
            "Profit     22718238.0\n",
            "Name: CRISTOPHER, dtype: float64\n"
          ]
        }
      ]
    },
    {
      "cell_type": "code",
      "source": [
        "#dispenser with least sales\n",
        "sort = sales_per_dispenser.sort_values(['Amount'], ascending=[True])\n",
        "dispenser_1=sort.iloc[0]\n",
        "print(round(dispenser_1))"
      ],
      "metadata": {
        "colab": {
          "base_uri": "https://localhost:8080/"
        },
        "id": "Tc1bfWdZqE8n",
        "outputId": "b690ff26-bf03-4a4a-b4fb-4421dbb0f885"
      },
      "execution_count": 9,
      "outputs": [
        {
          "output_type": "stream",
          "name": "stdout",
          "text": [
            "Amount    3734667.0\n",
            "Profit    1012831.0\n",
            "Name: Mubarak, dtype: float64\n"
          ]
        }
      ]
    },
    {
      "cell_type": "code",
      "source": [
        "# The item that sold in most quantity\n",
        "sales_per_item = df.groupby([\"Trade Name\",\"Quantity\"]).sum()\n",
        "sorted = sales_per_item.sort_values([\"Quantity\",\"Trade Name\"]).max()\n",
        "sorted"
      ],
      "metadata": {
        "colab": {
          "base_uri": "https://localhost:8080/"
        },
        "id": "vV-UJVdDrLT0",
        "outputId": "a6fcba4a-dc58-47ac-e437-1f86e302a3a9"
      },
      "execution_count": 10,
      "outputs": [
        {
          "output_type": "execute_result",
          "data": {
            "text/plain": [
              "Amount    8.250000e+06\n",
              "Profit    5.263636e+05\n",
              "dtype: float64"
            ]
          },
          "metadata": {},
          "execution_count": 10
        }
      ]
    },
    {
      "cell_type": "code",
      "source": [
        "#the day with most sales\n",
        "sales_per_day = df.groupby([\"Date\"]).sum()\n",
        "most_sales = sales_per_day.sort_values([\"Amount\"],ascending=[False])\n",
        "day= round(most_sales.iloc[0])\n",
        "day"
      ],
      "metadata": {
        "colab": {
          "base_uri": "https://localhost:8080/"
        },
        "id": "ZQFVHPp0BFO2",
        "outputId": "5842f429-38c0-4316-f16c-09fdb7988593"
      },
      "execution_count": 11,
      "outputs": [
        {
          "output_type": "execute_result",
          "data": {
            "text/plain": [
              "Amount    78379137.0\n",
              "Profit     4797378.0\n",
              "Name: 31/12/2021, dtype: float64"
            ]
          },
          "metadata": {},
          "execution_count": 11
        }
      ]
    }
  ]
}