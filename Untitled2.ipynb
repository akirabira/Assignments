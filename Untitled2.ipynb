{
  "nbformat": 4,
  "nbformat_minor": 0,
  "metadata": {
    "colab": {
      "name": "Untitled2.ipynb",
      "provenance": [],
      "collapsed_sections": [],
      "authorship_tag": "ABX9TyPj+z5KKYMDl/cQ119aMtkY",
      "include_colab_link": true
    },
    "kernelspec": {
      "name": "python3",
      "display_name": "Python 3"
    },
    "language_info": {
      "name": "python"
    }
  },
  "cells": [
    {
      "cell_type": "markdown",
      "metadata": {
        "id": "view-in-github",
        "colab_type": "text"
      },
      "source": [
        "<a href=\"https://colab.research.google.com/github/akirabira/Assignments/blob/main/Untitled2.ipynb\" target=\"_parent\"><img src=\"https://colab.research.google.com/assets/colab-badge.svg\" alt=\"Open In Colab\"/></a>"
      ]
    },
    {
      "cell_type": "code",
      "source": [
        "# 1 USD = 3500 UGX. convert 100, 150, 500, 1000, 600, 350 USD to UGX. URA levies PAYEE of 5% on all exchanges above 1m UGX. How much will each customer walk away with?\n",
        "USD_list = [100, 150, 500, 1000, 600, 350]\n",
        "USD_list\n",
        "\n"
      ],
      "metadata": {
        "colab": {
          "base_uri": "https://localhost:8080/"
        },
        "id": "KKkxB1c0Rv5z",
        "outputId": "d80311cc-80e4-414f-ab2d-d6ccf5c45938"
      },
      "execution_count": 8,
      "outputs": [
        {
          "output_type": "execute_result",
          "data": {
            "text/plain": [
              "[100, 150, 500, 1000, 600, 350]"
            ]
          },
          "metadata": {},
          "execution_count": 8
        }
      ]
    },
    {
      "cell_type": "code",
      "source": [
        "for item in USD_list:\n",
        "  UGX = item*3500\n",
        "  print(UGX)"
      ],
      "metadata": {
        "colab": {
          "base_uri": "https://localhost:8080/"
        },
        "id": "w9-KgX_CUYsT",
        "outputId": "794aefdd-bfe2-4bf0-9ece-6a2edbf02378"
      },
      "execution_count": 9,
      "outputs": [
        {
          "output_type": "stream",
          "name": "stdout",
          "text": [
            "350000\n",
            "525000\n",
            "1750000\n",
            "3500000\n",
            "2100000\n",
            "1225000\n"
          ]
        }
      ]
    },
    {
      "cell_type": "code",
      "source": [
        "UGX_list = []\n",
        "UGX_list\n",
        "\n",
        "for item in USD_list:\n",
        "  UGX = item*3500\n",
        "  UGX_list.append(UGX)\n",
        "print(UGX_list)"
      ],
      "metadata": {
        "colab": {
          "base_uri": "https://localhost:8080/"
        },
        "id": "cHnXXmiLi8yY",
        "outputId": "117bb242-9294-41a3-aec6-92b6d70715e1"
      },
      "execution_count": 11,
      "outputs": [
        {
          "output_type": "stream",
          "name": "stdout",
          "text": [
            "[350000, 525000, 1750000, 3500000, 2100000, 1225000]\n"
          ]
        }
      ]
    },
    {
      "cell_type": "code",
      "source": [
        "payee = 5/100\n",
        "\n",
        "# if payee is 0.05, then each will walk away with (1-0.05) = 0.95\n",
        "take_home = 1-payee\n",
        "print(take_home)"
      ],
      "metadata": {
        "colab": {
          "base_uri": "https://localhost:8080/"
        },
        "id": "LV5JlMtA2s6d",
        "outputId": "269dc0d9-b00e-4a41-c4ba-644bedb419ba"
      },
      "execution_count": 13,
      "outputs": [
        {
          "output_type": "stream",
          "name": "stdout",
          "text": [
            "0.95\n"
          ]
        }
      ]
    },
    {
      "cell_type": "code",
      "source": [
        "for item in UGX_list:\n",
        "  if item > 1000000:\n",
        "   balance = item*take_home\n",
        "   print(balance)\n",
        "  elif item < 1000000:\n",
        "    balance = item*1 # we multiply by 1 coz the person receives 100% of their money\n",
        "    print(balance)"
      ],
      "metadata": {
        "colab": {
          "base_uri": "https://localhost:8080/"
        },
        "id": "bWI2eMrwhXDT",
        "outputId": "de75c877-5913-43fe-94a8-ec6cd98af1d1"
      },
      "execution_count": 65,
      "outputs": [
        {
          "output_type": "stream",
          "name": "stdout",
          "text": [
            "350000\n",
            "525000\n",
            "1662500.0\n",
            "3325000.0\n",
            "1995000.0\n",
            "1163750.0\n"
          ]
        }
      ]
    },
    {
      "cell_type": "code",
      "source": [
        "total_bal =[]\n",
        "total_bal\n",
        "total_bal.append(balance)\n",
        "print(total_bal) # i think i have gotten stack here in trying to create a list for the walk away total"
      ],
      "metadata": {
        "colab": {
          "base_uri": "https://localhost:8080/"
        },
        "id": "N8kDDTrzuqRc",
        "outputId": "dc6fe5a5-cf7d-40be-e9af-1a6a13612a7e"
      },
      "execution_count": 68,
      "outputs": [
        {
          "output_type": "stream",
          "name": "stdout",
          "text": [
            "[1163750.0]\n"
          ]
        }
      ]
    }
  ]
}